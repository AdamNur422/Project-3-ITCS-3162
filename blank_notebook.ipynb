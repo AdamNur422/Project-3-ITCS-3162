{
 "cells": [
  {
   "cell_type": "markdown",
   "id": "8d24dba2",
   "metadata": {},
   "source": [
    "Pre-Processing Data"
   ]
  },
  {
   "cell_type": "code",
   "execution_count": 9,
   "id": "1782ea01",
   "metadata": {},
   "outputs": [],
   "source": [
    "# Import necessary libraries\n",
    "import pandas as pd\n",
    "import numpy as np\n",
    "import seaborn as sns\n",
    "import matplotlib.pyplot as plt"
   ]
  },
  {
   "cell_type": "code",
   "execution_count": 2,
   "id": "6abb53b0",
   "metadata": {},
   "outputs": [],
   "source": [
    "df = pd.read_csv('vehicles.csv')"
   ]
  },
  {
   "cell_type": "code",
   "execution_count": 3,
   "id": "35f8935c",
   "metadata": {},
   "outputs": [],
   "source": [
    "# 1. Remove Unnecessary Features\n",
    "drop_columns = ['id', 'url', 'region_url', 'image_url', 'VIN', 'description', 'county', 'posting_date']\n",
    "df = df.drop(columns=drop_columns)\n"
   ]
  },
  {
   "cell_type": "code",
   "execution_count": 5,
   "id": "30c001c6",
   "metadata": {},
   "outputs": [],
   "source": [
    "# 2. Handle Missing Data\n",
    "for column in ['model', 'condition', 'cylinders', 'manufacturer', 'fuel', 'transmission']:\n",
    "    df[column].fillna(df[column].mode()[0], inplace=True)"
   ]
  },
  {
   "cell_type": "code",
   "execution_count": 11,
   "id": "00155d30",
   "metadata": {},
   "outputs": [],
   "source": [
    "df['odometer'].fillna(df['odometer'].mean(), inplace=True)  \n",
    "df['car_age'].fillna(df['car_age'].mean(), inplace=True) \n",
    "\n",
    "df['lat'].fillna(df['lat'].mean(), inplace=True)\n",
    "df['long'].fillna(df['long'].mean(), inplace=True)\n",
    "\n",
    "for column in ['size', 'drive', 'paint_color', 'type', 'title_status']:\n",
    "    df[column].fillna(df[column].mode()[0], inplace=True)"
   ]
  },
  {
   "cell_type": "code",
   "execution_count": 25,
   "id": "f94251b2",
   "metadata": {},
   "outputs": [],
   "source": [
    "df.to_csv('cleaned_vehicle.csv', index=False)\n"
   ]
  },
  {
   "cell_type": "markdown",
   "id": "13ccffaa",
   "metadata": {},
   "source": [
    "Modeling"
   ]
  },
  {
   "cell_type": "code",
   "execution_count": 28,
   "id": "8ac07b42",
   "metadata": {},
   "outputs": [
    {
     "name": "stdout",
     "output_type": "stream",
     "text": [
      "Requirement already satisfied: pip in c:\\users\\adamn\\appdata\\local\\programs\\python\\python311\\lib\\site-packages (23.3)\n",
      "Collecting pip\n",
      "  Downloading pip-23.3.1-py3-none-any.whl.metadata (3.5 kB)\n",
      "Downloading pip-23.3.1-py3-none-any.whl (2.1 MB)\n",
      "   ---------------------------------------- 0.0/2.1 MB ? eta -:--:--\n",
      "   - -------------------------------------- 0.1/2.1 MB 2.3 MB/s eta 0:00:01\n",
      "   --- ------------------------------------ 0.2/2.1 MB 2.4 MB/s eta 0:00:01\n",
      "   ------ --------------------------------- 0.3/2.1 MB 2.9 MB/s eta 0:00:01\n",
      "   ----------- ---------------------------- 0.6/2.1 MB 3.7 MB/s eta 0:00:01\n",
      "   ------------------------ --------------- 1.3/2.1 MB 6.4 MB/s eta 0:00:01\n",
      "   ------------------------------------ --- 1.9/2.1 MB 7.6 MB/s eta 0:00:01\n",
      "   ---------------------------------------- 2.1/2.1 MB 7.5 MB/s eta 0:00:00\n",
      "Installing collected packages: pip\n",
      "  Attempting uninstall: pip\n",
      "    Found existing installation: pip 23.3\n",
      "    Uninstalling pip-23.3:\n",
      "      Successfully uninstalled pip-23.3\n",
      "Successfully installed pip-23.3.1\n",
      "Note: you may need to restart the kernel to use updated packages.\n"
     ]
    }
   ],
   "source": [
    "pip install --upgrade pip"
   ]
  },
  {
   "cell_type": "code",
   "execution_count": 30,
   "id": "b9196f87",
   "metadata": {},
   "outputs": [],
   "source": [
    "data = pd.read_csv('cleaned_vehicle.csv')"
   ]
  },
  {
   "cell_type": "code",
   "execution_count": 31,
   "id": "cf1a58ea",
   "metadata": {},
   "outputs": [
    {
     "name": "stdout",
     "output_type": "stream",
     "text": [
      "                   region  price  model condition    cylinders      odometer   \n",
      "0                prescott   6000  f-150      good  6 cylinders  98043.331443  \\\n",
      "1            fayetteville  11900  f-150      good  6 cylinders  98043.331443   \n",
      "2            florida keys  21000  f-150      good  6 cylinders  98043.331443   \n",
      "3  worcester / central MA   1500  f-150      good  6 cylinders  98043.331443   \n",
      "4              greensboro   4900  f-150      good  6 cylinders  98043.331443   \n",
      "\n",
      "  title_status drive       size   type  ... manufacturer_tesla   \n",
      "0        clean   4wd  full-size  sedan  ...              False  \\\n",
      "1        clean   4wd  full-size  sedan  ...              False   \n",
      "2        clean   4wd  full-size  sedan  ...              False   \n",
      "3        clean   4wd  full-size  sedan  ...              False   \n",
      "4        clean   4wd  full-size  sedan  ...              False   \n",
      "\n",
      "  manufacturer_toyota  manufacturer_volkswagen  manufacturer_volvo   \n",
      "0               False                    False               False  \\\n",
      "1               False                    False               False   \n",
      "2               False                    False               False   \n",
      "3               False                    False               False   \n",
      "4               False                    False               False   \n",
      "\n",
      "   fuel_electric  fuel_gas  fuel_hybrid  fuel_other  transmission_manual   \n",
      "0          False      True        False       False                False  \\\n",
      "1          False      True        False       False                False   \n",
      "2          False      True        False       False                False   \n",
      "3          False      True        False       False                False   \n",
      "4          False      True        False       False                False   \n",
      "\n",
      "   transmission_other  \n",
      "0               False  \n",
      "1               False  \n",
      "2               False  \n",
      "3               False  \n",
      "4               False  \n",
      "\n",
      "[5 rows x 62 columns]\n",
      "region                 0\n",
      "price                  0\n",
      "model                  0\n",
      "condition              0\n",
      "cylinders              0\n",
      "                      ..\n",
      "fuel_gas               0\n",
      "fuel_hybrid            0\n",
      "fuel_other             0\n",
      "transmission_manual    0\n",
      "transmission_other     0\n",
      "Length: 62, dtype: int64\n"
     ]
    }
   ],
   "source": [
    "print(data.head())\n",
    "print(data.isnull().sum())\n"
   ]
  },
  {
   "cell_type": "code",
   "execution_count": 32,
   "id": "6d4b71ae",
   "metadata": {},
   "outputs": [],
   "source": [
    "X = data[['odometer']]\n",
    "y = data['price']"
   ]
  },
  {
   "cell_type": "code",
   "execution_count": 33,
   "id": "5270600b",
   "metadata": {},
   "outputs": [],
   "source": [
    "from sklearn.model_selection import train_test_split\n",
    "\n",
    "X_train, X_test, y_train, y_test = train_test_split(X, y, test_size=0.2, random_state=42)"
   ]
  },
  {
   "cell_type": "code",
   "execution_count": 34,
   "id": "4be2fe5c",
   "metadata": {},
   "outputs": [
    {
     "data": {
      "text/html": [
       "<style>#sk-container-id-1 {color: black;}#sk-container-id-1 pre{padding: 0;}#sk-container-id-1 div.sk-toggleable {background-color: white;}#sk-container-id-1 label.sk-toggleable__label {cursor: pointer;display: block;width: 100%;margin-bottom: 0;padding: 0.3em;box-sizing: border-box;text-align: center;}#sk-container-id-1 label.sk-toggleable__label-arrow:before {content: \"▸\";float: left;margin-right: 0.25em;color: #696969;}#sk-container-id-1 label.sk-toggleable__label-arrow:hover:before {color: black;}#sk-container-id-1 div.sk-estimator:hover label.sk-toggleable__label-arrow:before {color: black;}#sk-container-id-1 div.sk-toggleable__content {max-height: 0;max-width: 0;overflow: hidden;text-align: left;background-color: #f0f8ff;}#sk-container-id-1 div.sk-toggleable__content pre {margin: 0.2em;color: black;border-radius: 0.25em;background-color: #f0f8ff;}#sk-container-id-1 input.sk-toggleable__control:checked~div.sk-toggleable__content {max-height: 200px;max-width: 100%;overflow: auto;}#sk-container-id-1 input.sk-toggleable__control:checked~label.sk-toggleable__label-arrow:before {content: \"▾\";}#sk-container-id-1 div.sk-estimator input.sk-toggleable__control:checked~label.sk-toggleable__label {background-color: #d4ebff;}#sk-container-id-1 div.sk-label input.sk-toggleable__control:checked~label.sk-toggleable__label {background-color: #d4ebff;}#sk-container-id-1 input.sk-hidden--visually {border: 0;clip: rect(1px 1px 1px 1px);clip: rect(1px, 1px, 1px, 1px);height: 1px;margin: -1px;overflow: hidden;padding: 0;position: absolute;width: 1px;}#sk-container-id-1 div.sk-estimator {font-family: monospace;background-color: #f0f8ff;border: 1px dotted black;border-radius: 0.25em;box-sizing: border-box;margin-bottom: 0.5em;}#sk-container-id-1 div.sk-estimator:hover {background-color: #d4ebff;}#sk-container-id-1 div.sk-parallel-item::after {content: \"\";width: 100%;border-bottom: 1px solid gray;flex-grow: 1;}#sk-container-id-1 div.sk-label:hover label.sk-toggleable__label {background-color: #d4ebff;}#sk-container-id-1 div.sk-serial::before {content: \"\";position: absolute;border-left: 1px solid gray;box-sizing: border-box;top: 0;bottom: 0;left: 50%;z-index: 0;}#sk-container-id-1 div.sk-serial {display: flex;flex-direction: column;align-items: center;background-color: white;padding-right: 0.2em;padding-left: 0.2em;position: relative;}#sk-container-id-1 div.sk-item {position: relative;z-index: 1;}#sk-container-id-1 div.sk-parallel {display: flex;align-items: stretch;justify-content: center;background-color: white;position: relative;}#sk-container-id-1 div.sk-item::before, #sk-container-id-1 div.sk-parallel-item::before {content: \"\";position: absolute;border-left: 1px solid gray;box-sizing: border-box;top: 0;bottom: 0;left: 50%;z-index: -1;}#sk-container-id-1 div.sk-parallel-item {display: flex;flex-direction: column;z-index: 1;position: relative;background-color: white;}#sk-container-id-1 div.sk-parallel-item:first-child::after {align-self: flex-end;width: 50%;}#sk-container-id-1 div.sk-parallel-item:last-child::after {align-self: flex-start;width: 50%;}#sk-container-id-1 div.sk-parallel-item:only-child::after {width: 0;}#sk-container-id-1 div.sk-dashed-wrapped {border: 1px dashed gray;margin: 0 0.4em 0.5em 0.4em;box-sizing: border-box;padding-bottom: 0.4em;background-color: white;}#sk-container-id-1 div.sk-label label {font-family: monospace;font-weight: bold;display: inline-block;line-height: 1.2em;}#sk-container-id-1 div.sk-label-container {text-align: center;}#sk-container-id-1 div.sk-container {/* jupyter's `normalize.less` sets `[hidden] { display: none; }` but bootstrap.min.css set `[hidden] { display: none !important; }` so we also need the `!important` here to be able to override the default hidden behavior on the sphinx rendered scikit-learn.org. See: https://github.com/scikit-learn/scikit-learn/issues/21755 */display: inline-block !important;position: relative;}#sk-container-id-1 div.sk-text-repr-fallback {display: none;}</style><div id=\"sk-container-id-1\" class=\"sk-top-container\"><div class=\"sk-text-repr-fallback\"><pre>LinearRegression()</pre><b>In a Jupyter environment, please rerun this cell to show the HTML representation or trust the notebook. <br />On GitHub, the HTML representation is unable to render, please try loading this page with nbviewer.org.</b></div><div class=\"sk-container\" hidden><div class=\"sk-item\"><div class=\"sk-estimator sk-toggleable\"><input class=\"sk-toggleable__control sk-hidden--visually\" id=\"sk-estimator-id-1\" type=\"checkbox\" checked><label for=\"sk-estimator-id-1\" class=\"sk-toggleable__label sk-toggleable__label-arrow\">LinearRegression</label><div class=\"sk-toggleable__content\"><pre>LinearRegression()</pre></div></div></div></div></div>"
      ],
      "text/plain": [
       "LinearRegression()"
      ]
     },
     "execution_count": 34,
     "metadata": {},
     "output_type": "execute_result"
    }
   ],
   "source": [
    "from sklearn.linear_model import LinearRegression\n",
    "\n",
    "model = LinearRegression()\n",
    "model.fit(X_train, y_train)"
   ]
  },
  {
   "cell_type": "code",
   "execution_count": 35,
   "id": "ffc09159",
   "metadata": {},
   "outputs": [],
   "source": [
    "y_pred = model.predict(X_test)"
   ]
  },
  {
   "cell_type": "code",
   "execution_count": 36,
   "id": "bc8d67a5",
   "metadata": {},
   "outputs": [
    {
     "name": "stdout",
     "output_type": "stream",
     "text": [
      "Mean Squared Error: 391500820907556.0\n"
     ]
    }
   ],
   "source": [
    "from sklearn.metrics import mean_squared_error\n",
    "\n",
    "mse = mean_squared_error(y_test, y_pred)\n",
    "print(f\"Mean Squared Error: {mse}\")\n"
   ]
  },
  {
   "cell_type": "code",
   "execution_count": 38,
   "id": "b858991a",
   "metadata": {},
   "outputs": [
    {
     "data": {
      "image/png": "[encoded data removed]",
      "text/plain": [
       "<Figure size 1000x600 with 1 Axes>"
      ]
     },
     "metadata": {},
     "output_type": "display_data"
    }
   ],
   "source": [
    "import matplotlib.pyplot as plt\n",
    "\n",
    "# Scatter plot\n",
    "plt.figure(figsize=(10,6))\n",
    "plt.scatter(data['odometer'], data['price'], alpha=0.5, label='Actual Data')\n",
    "\n",
    "# Regression line\n",
    "sorted_order = data['odometer'].argsort()  \n",
    "plt.plot(data['odometer'][sorted_order], model.predict(data[['odometer']])[sorted_order], color='red', label='Regression Line')\n",
    "\n",
    "plt.title('Price vs. Odometer')\n",
    "plt.xlabel('Odometer (Mileage)')\n",
    "plt.ylabel('Price')\n",
    "plt.legend()\n",
    "plt.grid(True)\n",
    "plt.show()\n"
   ]
  }
 ],
 "metadata": {
  "kernelspec": {
   "display_name": "Python 3",
   "language": "python",
   "name": "python3"
  },
  "language_info": {
   "codemirror_mode": {
    "name": "ipython",
    "version": 3
   },
   "file_extension": ".py",
   "mimetype": "text/x-python",
   "name": "python",
   "nbconvert_exporter": "python",
   "pygments_lexer": "ipython3",
   "version": "3.11.2"
  }
 },
 "nbformat": 4,
 "nbformat_minor": 5
}
